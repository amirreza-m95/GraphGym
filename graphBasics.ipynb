{
 "cells": [
  {
   "cell_type": "code",
   "execution_count": 2,
   "metadata": {},
   "outputs": [],
   "source": [
    "import random\n",
    "from tqdm.notebook import tqdm\n",
    "import numpy as np\n",
    "import matplotlib.pyplot as plt\n",
    "import pandas as pd\n",
    "from sklearn.model_selection import train_test_split\n",
    "from sklearn.preprocessing import StandardScaler\n",
    "import copy\n",
    "from torch_geometric.utils import degree\n",
    "import torch\n",
    "from torch import nn, optim, Tensor\n",
    "from torch_sparse import SparseTensor, matmul\n",
    "\n",
    "from torch_geometric.data import download_url, extract_zip\n",
    "from torch_geometric.utils import structured_negative_sampling\n",
    "from torch_geometric.nn.conv.gcn_conv import gcn_norm\n",
    "from torch_geometric.typing import Adj\n",
    "from torch_geometric.nn.conv import MessagePassing\n",
    "\n",
    "from scipy import sparse"
   ]
  },
  {
   "cell_type": "code",
   "execution_count": 3,
   "metadata": {},
   "outputs": [
    {
     "name": "stdout",
     "output_type": "stream",
     "text": [
      "[[0 0 1 1]\n",
      " [1 0 1 0]\n",
      " [0 1 0 0]]\n"
     ]
    }
   ],
   "source": [
    "r_mat = np.array([[0, 0, 1, 1],\n",
    "                  [1, 0, 1, 0],\n",
    "                  [0, 1, 0, 0],])\n",
    "print(r_mat)"
   ]
  },
  {
   "cell_type": "code",
   "execution_count": 4,
   "metadata": {},
   "outputs": [
    {
     "name": "stdout",
     "output_type": "stream",
     "text": [
      "  (0, 2)\t1\n",
      "  (0, 3)\t1\n",
      "  (1, 0)\t1\n",
      "  (1, 2)\t1\n",
      "  (2, 1)\t1\n"
     ]
    }
   ],
   "source": [
    "r_mat_np_coo = sparse.coo_matrix(r_mat)\n",
    "print(r_mat_np_coo)\n"
   ]
  },
  {
   "cell_type": "code",
   "execution_count": 5,
   "metadata": {},
   "outputs": [
    {
     "name": "stdout",
     "output_type": "stream",
     "text": [
      "[0 0 1 1 2]\n",
      "[2 3 0 2 1]\n"
     ]
    }
   ],
   "source": [
    "r_mat_edge_index = [r_mat_np_coo.row, r_mat_np_coo.col]\n",
    "\n",
    "\n",
    "print(r_mat_edge_index[0])\n",
    "print(r_mat_edge_index[1])"
   ]
  },
  {
   "cell_type": "code",
   "execution_count": 6,
   "metadata": {},
   "outputs": [
    {
     "data": {
      "text/plain": [
       "matrix([[0, 0, 1, 1],\n",
       "        [1, 0, 1, 0],\n",
       "        [0, 1, 0, 0]])"
      ]
     },
     "execution_count": 6,
     "metadata": {},
     "output_type": "execute_result"
    }
   ],
   "source": [
    "r_mat_np_coo.todense()"
   ]
  },
  {
   "cell_type": "markdown",
   "metadata": {},
   "source": [
    "# Doing using Pytorch"
   ]
  },
  {
   "cell_type": "code",
   "execution_count": 7,
   "metadata": {},
   "outputs": [],
   "source": [
    "r_mat_edge_index = torch.LongTensor(np.array(r_mat_edge_index))"
   ]
  },
  {
   "cell_type": "code",
   "execution_count": 8,
   "metadata": {},
   "outputs": [
    {
     "name": "stdout",
     "output_type": "stream",
     "text": [
      "SparseTensor(row=tensor([0, 0, 1, 1, 2]),\n",
      "             col=tensor([2, 3, 0, 2, 1]),\n",
      "             size=(3, 4), nnz=5, density=41.67%)\n"
     ]
    }
   ],
   "source": [
    "sparse_r_mat_edge_index = SparseTensor(row=r_mat_edge_index[0], col=r_mat_edge_index[1], sparse_sizes=(3, 4))\n",
    "print(sparse_r_mat_edge_index)"
   ]
  },
  {
   "cell_type": "code",
   "execution_count": 9,
   "metadata": {},
   "outputs": [
    {
     "name": "stdout",
     "output_type": "stream",
     "text": [
      "tensor([[0., 0., 1., 1.],\n",
      "        [1., 0., 1., 0.],\n",
      "        [0., 1., 0., 0.]])\n"
     ]
    }
   ],
   "source": [
    "dense_r_mat_edge_index = sparse_r_mat_edge_index.to_dense()\n",
    "print(dense_r_mat_edge_index)   "
   ]
  },
  {
   "cell_type": "code",
   "execution_count": 2,
   "metadata": {},
   "outputs": [],
   "source": [
    "# In Bipartiite Graphs, the adjacency matrix is a block matrix with the shape of (N, M), where N and M are the number of nodes in the two partitions.\n",
    "# in order to convert interaction matrix of a bipartite graph to adjacency matrix, we need to convert the interaction matrix to a block matrix with the shape of (N+M, N+M)\n",
    "\n",
    "#      ( 0    R )\n",
    "#  A = ( R_T  0 )\n",
    "\n",
    "def convert_r_mat_edge_index_to_adj_mat_edge_index(input_edge_index):\n",
    "    R = torch.zeros((num_users, num_movies))\n",
    "    \n",
    "# convert sparse coo format to dense format to get R matrix\n",
    "    for i in range(input_edge_index[0]):\n",
    "        row_idx = input_edge_index[0][i]\n",
    "        col_idx = input_edge_index[1][i]\n",
    "        R[row_idx][col_idx] = 1\n",
    "\n",
    "\n",
    "    R_transpose = torch.transpose(R, 0, 1)\n",
    "    adj_mat = torch.zeros((num_users + num_movies, num_users + num_movies))\n",
    "    adj_mat[:num_users, num_users:] = R.clone()\n",
    "    adj_mat[num_users:, :num_users] = R_transpose.clone()\n",
    "    adj_mat_coo = adj_mat.to_sparse_coo()\n",
    "    adj_mat_coo = adj_mat_coo.indices()\n",
    "    return adj_mat_coo"
   ]
  },
  {
   "cell_type": "code",
   "execution_count": 11,
   "metadata": {},
   "outputs": [],
   "source": [
    "def convert_adj_mat_edge_index_to_r_mat_edge_index(input_edge_index: Tensor):\n",
    "    A = torch.zeros((row_size+col_size, row_size+col_size))\n",
    "    for i in range(input_edge_index[0]):\n",
    "        row_idx = input_edge_index[0][i]\n",
    "        col_idx = input_edge_index[1][i]\n",
    "        A[row_idx][col_idx] = 1\n",
    "\n",
    "    R = A[:row_size, row_size:]\n",
    "    R_coo = torch.nonzero(R, as_tuple=False).T\n",
    "    return R_coo"
   ]
  },
  {
   "cell_type": "code",
   "execution_count": 13,
   "metadata": {},
   "outputs": [
    {
     "ename": "TypeError",
     "evalue": "only integer tensors of a single element can be converted to an index",
     "output_type": "error",
     "traceback": [
      "\u001b[0;31m---------------------------------------------------------------------------\u001b[0m",
      "\u001b[0;31mTypeError\u001b[0m                                 Traceback (most recent call last)",
      "Cell \u001b[0;32mIn[13], line 1\u001b[0m\n\u001b[0;32m----> 1\u001b[0m adj_mat_edge_index \u001b[38;5;241m=\u001b[39m \u001b[43mconvert_r_mat_edge_index_to_adj_mat_edge_index\u001b[49m\u001b[43m(\u001b[49m\u001b[43mr_mat_edge_index\u001b[49m\u001b[43m,\u001b[49m\u001b[43m \u001b[49m\u001b[38;5;241;43m3\u001b[39;49m\u001b[43m,\u001b[49m\u001b[43m \u001b[49m\u001b[38;5;241;43m4\u001b[39;49m\u001b[43m)\u001b[49m\n",
      "Cell \u001b[0;32mIn[10], line 11\u001b[0m, in \u001b[0;36mconvert_r_mat_edge_index_to_adj_mat_edge_index\u001b[0;34m(input_edge_index, row_size, col_size)\u001b[0m\n\u001b[1;32m      8\u001b[0m     R \u001b[38;5;241m=\u001b[39m torch\u001b[38;5;241m.\u001b[39mzeros((row_size, col_size))\n\u001b[1;32m     10\u001b[0m \u001b[38;5;66;03m# convert sparse coo format to dense format to get R matrix\u001b[39;00m\n\u001b[0;32m---> 11\u001b[0m     \u001b[38;5;28;01mfor\u001b[39;00m i \u001b[38;5;129;01min\u001b[39;00m \u001b[38;5;28;43mrange\u001b[39;49m\u001b[43m(\u001b[49m\u001b[43minput_edge_index\u001b[49m\u001b[43m[\u001b[49m\u001b[38;5;241;43m0\u001b[39;49m\u001b[43m]\u001b[49m\u001b[43m)\u001b[49m:\n\u001b[1;32m     12\u001b[0m         row_idx \u001b[38;5;241m=\u001b[39m input_edge_index[\u001b[38;5;241m0\u001b[39m][i]\n\u001b[1;32m     13\u001b[0m         col_idx \u001b[38;5;241m=\u001b[39m input_edge_index[\u001b[38;5;241m1\u001b[39m][i]\n",
      "\u001b[0;31mTypeError\u001b[0m: only integer tensors of a single element can be converted to an index"
     ]
    }
   ],
   "source": [
    "adj_mat_edge_index = convert_r_mat_edge_index_to_adj_mat_edge_index(r_mat_edge_index, 3, 4)\n",
    "print(adj_mat_edge_index)"
   ]
  },
  {
   "cell_type": "code",
   "execution_count": null,
   "metadata": {},
   "outputs": [],
   "source": [
    "adj_mat = SparseTensor(row=adj_mat_edge_index[0], col=adj_mat_edge_index[1], sparse_sizes=(7, 7))\n",
    "\n",
    "print(adj_mat.to_dense())"
   ]
  },
  {
   "cell_type": "code",
   "execution_count": null,
   "metadata": {},
   "outputs": [],
   "source": [
    "convert_back_r_mat_edge_index = convert_adj_mat_edge_index_to_r_mat_edge_index(adj_mat_edge_index, 3, 4)\n",
    "\n",
    "converted_back_to_r_mat = SparseTensor(row=convert_back_r_mat_edge_index[0], col=convert_back_r_mat_edge_index[1], sparse_sizes=(3, 4))\n",
    "\n",
    "print(converted_back_to_r_mat.to_dense())"
   ]
  }
 ],
 "metadata": {
  "kernelspec": {
   "display_name": "graphgymvenv",
   "language": "python",
   "name": "python3"
  },
  "language_info": {
   "codemirror_mode": {
    "name": "ipython",
    "version": 3
   },
   "file_extension": ".py",
   "mimetype": "text/x-python",
   "name": "python",
   "nbconvert_exporter": "python",
   "pygments_lexer": "ipython3",
   "version": "3.11.5"
  }
 },
 "nbformat": 4,
 "nbformat_minor": 2
}
