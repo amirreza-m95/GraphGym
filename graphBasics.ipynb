{
 "cells": [
  {
   "cell_type": "code",
   "execution_count": 8,
   "metadata": {},
   "outputs": [],
   "source": [
    "import random\n",
    "from tqdm.notebook import tqdm\n",
    "import numpy as np\n",
    "import matplotlib.pyplot as plt\n",
    "import pandas as pd\n",
    "from sklearn.model_selection import train_test_split\n",
    "from sklearn.preprocessing import StandardScaler\n",
    "import copy\n",
    "from torch_geometric.utils import degree\n",
    "import torch\n",
    "from torch import nn, optim, Tensor\n",
    "from torch_sparse import SparseTensor, matmul\n",
    "\n",
    "from torch_geometric.data import download_url, extract_zip\n",
    "from torch_geometric.utils import structured_negative_sampling\n",
    "from torch_geometric.nn.conv.gcn_conv import gcn_norm\n",
    "from torch_geometric.typing import Adj\n",
    "from torch_geometric.nn.conv import MessagePassing\n",
    "\n",
    "from scipy import sparse"
   ]
  },
  {
   "cell_type": "code",
   "execution_count": 9,
   "metadata": {},
   "outputs": [
    {
     "name": "stdout",
     "output_type": "stream",
     "text": [
      "[[0 0 1 1]\n",
      " [1 0 1 0]\n",
      " [0 1 0 0]]\n"
     ]
    }
   ],
   "source": [
    "r_mat = np.array([[0, 0, 1, 1],\n",
    "                  [1, 0, 1, 0],\n",
    "                  [0, 1, 0, 0],])\n",
    "print(r_mat)"
   ]
  },
  {
   "cell_type": "code",
   "execution_count": 10,
   "metadata": {},
   "outputs": [
    {
     "name": "stdout",
     "output_type": "stream",
     "text": [
      "  (0, 2)\t1\n",
      "  (0, 3)\t1\n",
      "  (1, 0)\t1\n",
      "  (1, 2)\t1\n",
      "  (2, 1)\t1\n"
     ]
    }
   ],
   "source": [
    "r_mat_np_coo = sparse.coo_matrix(r_mat)\n",
    "print(r_mat_np_coo)\n"
   ]
  },
  {
   "cell_type": "code",
   "execution_count": 11,
   "metadata": {},
   "outputs": [
    {
     "name": "stdout",
     "output_type": "stream",
     "text": [
      "[array([0, 0, 1, 1, 2], dtype=int32), array([2, 3, 0, 2, 1], dtype=int32)]\n"
     ]
    }
   ],
   "source": [
    "r_mat_edge_index = [r_mat_np_coo.row, r_mat_np_coo.col]\n",
    "\n",
    "\n",
    "print(r_mat_edge_index[0])\n",
    "print(r_mat_edge_index[1])"
   ]
  },
  {
   "cell_type": "code",
   "execution_count": null,
   "metadata": {},
   "outputs": [],
   "source": [
    "r_mat_np_coo.todense()"
   ]
  },
  {
   "cell_type": "markdown",
   "metadata": {},
   "source": [
    "# Doing using Pytorch"
   ]
  },
  {
   "cell_type": "code",
   "execution_count": null,
   "metadata": {},
   "outputs": [],
   "source": [
    "r_mat_edge_index = torch.LongTensor(np.array(r_mat_edge_index))"
   ]
  },
  {
   "cell_type": "code",
   "execution_count": null,
   "metadata": {},
   "outputs": [],
   "source": [
    "sparse_r_mat_edge_index = SparseTensor(row=r_mat_edge_index[0], col=r_mat_edge_index[1], sparse_sizes=(3, 4))\n",
    "print(sparse_r_mat_edge_index)"
   ]
  },
  {
   "cell_type": "code",
   "execution_count": null,
   "metadata": {},
   "outputs": [],
   "source": [
    "dense_r_mat_edge_index = sparse_r_mat_edge_index.to_dense()\n",
    "print(dense_r_mat_edge_index)   "
   ]
  },
  {
   "cell_type": "code",
   "execution_count": null,
   "metadata": {},
   "outputs": [],
   "source": [
    "# In Bipartiite Graphs, the adjacency matrix is a block matrix with the shape of (N, M), where N and M are the number of nodes in the two partitions.\n",
    "# in order to convert interaction matrix of a bipartite graph to adjacency matrix, we need to convert the interaction matrix to a block matrix with the shape of (N+M, N+M)\n",
    "\n",
    "#      ( 0    R )\n",
    "#  A = ( R_T  0 )\n",
    "\n",
    "def convert_r_mat_edge_index_to_adj_mat_edge_index(input_edge_index: Tensor, row_size: int, col_size: int) -> Tensor:\n",
    "    R = torch.zeros((row_size, col_size))\n",
    "    \n",
    "# convert sparse coo format to dense format to get R matrix\n",
    "    for i in range(input_edge_index[0]):\n",
    "        row_idx = input_edge_index[0][i]\n",
    "        col_idx = input_edge_index[1][i]\n",
    "        R[row_idx][col_idx] = 1\n",
    "\n",
    "\n",
    "# perform the r_mat to adj_mat conversion\n",
    "    A = torch.zeros((row_size+col_size, row_size+col_size))\n",
    "    A[:row_size, row_size:] = R\n",
    "    A[row_size:, :row_size] = R.T\n",
    "\n",
    "# convert from dense format to sparse coo format\n",
    "    A_coo = torch.nonzero(A, as_tuple=False).T\n",
    "    return A_coo"
   ]
  },
  {
   "cell_type": "code",
   "execution_count": null,
   "metadata": {},
   "outputs": [],
   "source": [
    "def convert_adj_mat_edge_index_to_r_mat_edge_index(input_edge_index: Tensor, row_size: int, col_size: int) -> Tensor:\n",
    "    A = torch.zeros((row_size+col_size, row_size+col_size))\n",
    "    for i in range(input_edge_index[0]):\n",
    "        row_idx = input_edge_index[0][i]\n",
    "        col_idx = input_edge_index[1][i]\n",
    "        A[row_idx][col_idx] = 1\n",
    "\n",
    "    R = A[:row_size, row_size:]\n",
    "    R_coo = torch.nonzero(R, as_tuple=False).T\n",
    "    return R_coo"
   ]
  },
  {
   "cell_type": "code",
   "execution_count": null,
   "metadata": {},
   "outputs": [],
   "source": []
  },
  {
   "cell_type": "code",
   "execution_count": null,
   "metadata": {},
   "outputs": [],
   "source": []
  },
  {
   "cell_type": "code",
   "execution_count": null,
   "metadata": {},
   "outputs": [],
   "source": []
  }
 ],
 "metadata": {
  "kernelspec": {
   "display_name": "graphgymvenv",
   "language": "python",
   "name": "python3"
  },
  "language_info": {
   "codemirror_mode": {
    "name": "ipython",
    "version": 3
   },
   "file_extension": ".py",
   "mimetype": "text/x-python",
   "name": "python",
   "nbconvert_exporter": "python",
   "pygments_lexer": "ipython3",
   "version": "3.11.5"
  }
 },
 "nbformat": 4,
 "nbformat_minor": 2
}
